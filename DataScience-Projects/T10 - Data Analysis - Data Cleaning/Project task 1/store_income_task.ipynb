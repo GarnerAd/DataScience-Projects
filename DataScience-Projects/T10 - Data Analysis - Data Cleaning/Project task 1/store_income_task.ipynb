{
 "cells": [
  {
   "cell_type": "markdown",
   "metadata": {
    "id": "lqt_yzRy16Wj"
   },
   "source": [
    "## Task\n",
    "\n",
    "In this compulsory task you will clean the country column and parse the date column in the **store_income_data_task.csv** file."
   ]
  },
  {
   "cell_type": "code",
   "execution_count": 1,
   "metadata": {
    "id": "vBP3WN2O16Wp"
   },
   "outputs": [
    {
     "name": "stdout",
     "output_type": "stream",
     "text": [
      "   id                   store_name         store_email  department  \\\n",
      "0   1   Cullen/Frost Bankers, Inc.                 NaN    Clothing   \n",
      "1   2          Nordson Corporation                 NaN       Tools   \n",
      "2   3        Stag Industrial, Inc.                 NaN      Beauty   \n",
      "3   4          FIRST REPUBLIC BANK  ecanadine3@fc2.com  Automotive   \n",
      "4   5  Mercantile Bank Corporation                 NaN        Baby   \n",
      "\n",
      "         income date_measured          country  \n",
      "0  $54438554.24      4-2-2006   United States/  \n",
      "1  $41744177.01      4-1-2006          Britain  \n",
      "2  $36152340.34     12-9-2003    United States  \n",
      "3   $8928350.04      8-5-2006         Britain/  \n",
      "4  $33552742.32     21-1-1973   United Kingdom  \n"
     ]
    }
   ],
   "source": [
    "# Load up store_income_data.csv\n",
    "import pandas as pd\n",
    "\n",
    "# Assuming the CSV file is in the same directory as your notebook or script\n",
    "file_path = \"store_income_data_task.csv\"\n",
    "\n",
    "# Read the CSV file into a DataFrame\n",
    "df = pd.read_csv(file_path)\n",
    "\n",
    "# Display the first few rows of the DataFrame to inspect the data\n",
    "print(df.head())"
   ]
  },
  {
   "cell_type": "markdown",
   "metadata": {
    "id": "ItqLwumA16Wr"
   },
   "source": [
    "1. Take a look at all the unique values in the \"country\" column. Then, convert the column to lowercase and remove any trailing white spaces."
   ]
  },
  {
   "cell_type": "code",
   "execution_count": 2,
   "metadata": {
    "id": "sLkzt4Hr16Wr"
   },
   "outputs": [
    {
     "name": "stdout",
     "output_type": "stream",
     "text": [
      "Unique values in 'country' column before cleaning:\n",
      "['United States/' 'Britain' ' United States' 'Britain/' ' United Kingdom'\n",
      " 'U.K.' 'SA ' 'U.K/' 'America' 'United Kingdom' nan 'united states'\n",
      " ' S.A.' 'England ' 'UK' 'S.A./' 'ENGLAND' 'BRITAIN' 'U.K' 'U.K '\n",
      " 'America/' 'SA.' 'S.A. ' 'u.k' 'uk' ' ' 'UK.' 'England/' 'england'\n",
      " ' Britain' 'united states of america' 'UK/' 'SA/' 'SA' 'England.'\n",
      " 'UNITED KINGDOM' 'America.' 'S.A..' 's.a.' ' U.K'\n",
      " ' United States of America' 'Britain ' 'England' ' SA'\n",
      " 'United States of America.' 'United States of America/' 'United States.'\n",
      " 's. africasouth africa' ' England' 'United Kingdom '\n",
      " 'United States of America ' ' UK' 'united kingdom' 'AMERICA' 'America '\n",
      " 'UNITED STATES OF AMERICA' ' S. AfricaSouth Africa' 'america'\n",
      " 'S. AFRICASOUTH AFRICA' 'Britain.' '/' 'United Kingdom.' 'United States'\n",
      " ' America' 'UNITED STATES' 'sa' 'United States of America' 'UK '\n",
      " 'United States ' 'S. AfricaSouth Africa/' 'S.A.' 'United Kingdom/'\n",
      " 'S. AfricaSouth Africa ' 'S. AfricaSouth Africa.' 'S. AfricaSouth Africa'\n",
      " '.' 'britain']\n",
      "\n",
      "Unique values in 'country' column after cleaning:\n",
      "['united states/' 'britain' 'united states' 'britain/' 'united kingdom'\n",
      " 'u.k.' 'sa' 'u.k/' 'america' nan 's.a.' 'england' 'uk' 's.a./' 'u.k'\n",
      " 'america/' 'sa.' '' 'uk.' 'england/' 'united states of america' 'uk/'\n",
      " 'sa/' 'england.' 'america.' 's.a..' 'united states of america.'\n",
      " 'united states of america/' 'united states.' 's. africasouth africa'\n",
      " 'britain.' '/' 'united kingdom.' 's. africasouth africa/'\n",
      " 'united kingdom/' 's. africasouth africa.' '.']\n"
     ]
    }
   ],
   "source": [
    "# Display all unique values in the \"country\" column before cleaning\n",
    "print(\"Unique values in 'country' column before cleaning:\")\n",
    "print(df['country'].unique())\n",
    "\n",
    "# Convert the column entries to lowercase and remove trailing white spaces\n",
    "df['country'] = df['country'].str.lower().str.strip()\n",
    "\n",
    "# Display all unique values in the \"country\" column after cleaning\n",
    "print(\"\\nUnique values in 'country' column after cleaning:\")\n",
    "print(df['country'].unique())\n"
   ]
  },
  {
   "cell_type": "markdown",
   "metadata": {
    "id": "P6dcDc4P16Ws"
   },
   "source": [
    "2. Note that there should only be three separate countries. Eliminate all variations, so that 'South Africa', 'United Kingdom' and 'United States' are the only three countries."
   ]
  },
  {
   "cell_type": "code",
   "execution_count": 5,
   "metadata": {
    "id": "qeV3CxMR16Ws"
   },
   "outputs": [
    {
     "name": "stdout",
     "output_type": "stream",
     "text": [
      "\n",
      "Unique values in 'country' column after cleaning:\n",
      "['united states/' 'britain' 'United States' 'britain/' 'United Kingdom'\n",
      " 'u.k.' 'South Africa' 'u.k/' 'america' nan 's.a.' 'england' 's.a./' 'u.k'\n",
      " 'america/' 'sa.' '' 'uk.' 'england/' 'united states of america' 'uk/'\n",
      " 'sa/' 'england.' 'america.' 's.a..' 'united states of america.'\n",
      " 'united states of america/' 'united states.' 's. africasouth africa'\n",
      " 'britain.' '/' 'united kingdom.' 's. africasouth africa/'\n",
      " 'united kingdom/' 's. africasouth africa.' '.']\n"
     ]
    }
   ],
   "source": [
    "# Replace variations of countries with standardized names\n",
    "df['country'].replace(['south africa', 'sa', 'southafrica'], 'South Africa', inplace=True)\n",
    "df['country'].replace(['united kingdom', 'uk'], 'United Kingdom', inplace=True)\n",
    "df['country'].replace(['united states', 'us', 'usa'], 'United States', inplace=True)\n",
    "\n",
    "# Display all unique values in the \"country\" column after cleaning\n",
    "print(\"\\nUnique values in 'country' column after cleaning:\")\n",
    "print(df['country'].unique())"
   ]
  },
  {
   "cell_type": "markdown",
   "metadata": {
    "id": "UJZDMTwP16Ws"
   },
   "source": [
    "3. Create a new column called `days_ago` in the DataFrame that is a copy of the 'date_measured' column but instead it is a number that shows how many days ago it was measured from the current date. Note that the current date can be obtained using `datetime.date.today()`."
   ]
  },
  {
   "cell_type": "code",
   "execution_count": 9,
   "metadata": {
    "id": "gMJbN84P16Wt"
   },
   "outputs": [
    {
     "name": "stdout",
     "output_type": "stream",
     "text": [
      "   id                   store_name         store_email  department  \\\n",
      "0   1   Cullen/Frost Bankers, Inc.                 NaN    Clothing   \n",
      "1   2          Nordson Corporation                 NaN       Tools   \n",
      "2   3        Stag Industrial, Inc.                 NaN      Beauty   \n",
      "3   4          FIRST REPUBLIC BANK  ecanadine3@fc2.com  Automotive   \n",
      "4   5  Mercantile Bank Corporation                 NaN        Baby   \n",
      "\n",
      "         income date_measured         country  days_ago  \n",
      "0  $54438554.24    2006-02-04  united states/      6657  \n",
      "1  $41744177.01    2006-01-04         britain      6688  \n",
      "2  $36152340.34    2003-09-12   United States      7533  \n",
      "3   $8928350.04    2006-05-08        britain/      6564  \n",
      "4  $33552742.32    1973-01-21  United Kingdom     18724  \n"
     ]
    }
   ],
   "source": [
    "import datetime\n",
    "\n",
    "# Convert the \"date_measured\" column to datetime format with the correct format\n",
    "df['date_measured'] = pd.to_datetime(df['date_measured'], format='%d-%m-%Y')\n",
    "\n",
    "# Calculate the number of days ago the data was measured\n",
    "current_date = pd.Timestamp.now().normalize()  # Get current date as a Timestamp\n",
    "df['days_ago'] = (current_date - df['date_measured']).dt.days\n",
    "\n",
    "# Display the DataFrame with the new 'days_ago' column\n",
    "print(df.head())\n"
   ]
  },
  {
   "cell_type": "code",
   "execution_count": null,
   "metadata": {},
   "outputs": [],
   "source": []
  }
 ],
 "metadata": {
  "colab": {
   "provenance": []
  },
  "kernelspec": {
   "display_name": "Python 3 (ipykernel)",
   "language": "python",
   "name": "python3"
  },
  "language_info": {
   "codemirror_mode": {
    "name": "ipython",
    "version": 3
   },
   "file_extension": ".py",
   "mimetype": "text/x-python",
   "name": "python",
   "nbconvert_exporter": "python",
   "pygments_lexer": "ipython3",
   "version": "3.12.3"
  },
  "vscode": {
   "interpreter": {
    "hash": "63d17dc58a06b6a6d4136fb13c245dafcf53668da37b1c3052c24d689135f5bb"
   }
  }
 },
 "nbformat": 4,
 "nbformat_minor": 4
}
