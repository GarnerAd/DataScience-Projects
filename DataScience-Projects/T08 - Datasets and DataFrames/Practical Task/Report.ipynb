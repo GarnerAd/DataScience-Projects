{
 "cells": [
  {
   "cell_type": "code",
   "execution_count": 1,
   "metadata": {
    "id": "h0LVvvnfJsg5"
   },
   "outputs": [],
   "source": [
    "# Import pandas\n",
    "import pandas as pd"
   ]
  },
  {
   "cell_type": "code",
   "execution_count": 2,
   "metadata": {},
   "outputs": [],
   "source": [
    "# Read the data with the correct delimiter\n",
    "df = pd.read_csv(\"balance.txt\", delimiter=\" \")"
   ]
  },
  {
   "cell_type": "code",
   "execution_count": 3,
   "metadata": {},
   "outputs": [],
   "source": [
    "# Calculate the average income based on ethnicity\n",
    "average_income_ethnicity = df.groupby(\"Ethnicity\")[\"Income\"].mean()"
   ]
  },
  {
   "cell_type": "code",
   "execution_count": 4,
   "metadata": {},
   "outputs": [],
   "source": [
    "# Compare the average balance between married and single individuals\n",
    "average_balance_married = df.loc[df[\"Married\"] == \"Yes\", \"Balance\"].mean()\n",
    "average_balance_single = df.loc[df[\"Married\"] == \"No\", \"Balance\"].mean()"
   ]
  },
  {
   "cell_type": "code",
   "execution_count": 5,
   "metadata": {},
   "outputs": [],
   "source": [
    "# Find the highest and lowest incomes in the dataset\n",
    "highest_income = df[\"Income\"].max()\n",
    "lowest_income = df[\"Income\"].min()"
   ]
  },
  {
   "cell_type": "code",
   "execution_count": 6,
   "metadata": {},
   "outputs": [],
   "source": [
    "# Count the total number of cards recorded\n",
    "total_cards = df[\"Cards\"].sum()"
   ]
  },
  {
   "cell_type": "code",
   "execution_count": 7,
   "metadata": {},
   "outputs": [],
   "source": [
    "# Count the number of females and males\n",
    "num_females = df[df[\"Gender\"] == \"Female\"].shape[0]\n",
    "num_males = df[df[\"Gender\"] == \"Male\"].shape[0]"
   ]
  },
  {
   "cell_type": "code",
   "execution_count": 8,
   "metadata": {},
   "outputs": [
    {
     "name": "stdout",
     "output_type": "stream",
     "text": [
      "Average income based on ethnicity:\n",
      "Ethnicity\n",
      "African American    47.682101\n",
      "Asian               44.187833\n",
      "Caucasian           44.521945\n",
      "Name: Income, dtype: float64\n",
      "\n",
      "Average balance for married individuals: 13.388473477498913\n",
      "Average balance for single individuals: 13.493509015134242\n",
      "\n",
      "Highest income in the dataset: 186.634\n",
      "Lowest income in the dataset: 10.354\n",
      "\n",
      "Total number of cards recorded: 1183\n",
      "Number of females: 207\n",
      "Number of males: 193\n"
     ]
    }
   ],
   "source": [
    "# Display the results\n",
    "print(\"Average income based on ethnicity:\")\n",
    "print(average_income_ethnicity)\n",
    "print(\"\\nAverage balance for married individuals:\", average_balance_married)\n",
    "print(\"Average balance for single individuals:\", average_balance_single)\n",
    "print(\"\\nHighest income in the dataset:\", highest_income)\n",
    "print(\"Lowest income in the dataset:\", lowest_income)\n",
    "print(\"\\nTotal number of cards recorded:\", total_cards)\n",
    "print(\"Number of females:\", num_females)\n",
    "print(\"Number of males:\", num_males)"
   ]
  },
  {
   "cell_type": "markdown",
   "metadata": {},
   "source": []
  }
 ],
 "metadata": {
  "colab": {
   "provenance": []
  },
  "kernelspec": {
   "display_name": "Python 3 (ipykernel)",
   "language": "python",
   "name": "python3"
  },
  "language_info": {
   "codemirror_mode": {
    "name": "ipython",
    "version": 3
   },
   "file_extension": ".py",
   "mimetype": "text/x-python",
   "name": "python",
   "nbconvert_exporter": "python",
   "pygments_lexer": "ipython3",
   "version": "3.11.8"
  }
 },
 "nbformat": 4,
 "nbformat_minor": 4
}
